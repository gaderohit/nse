{
 "cells": [
  {
   "cell_type": "markdown",
   "metadata": {},
   "source": [
    "Learning Book Google interview."
   ]
  },
  {
   "cell_type": "markdown",
   "metadata": {},
   "source": [
    "# Trai Data Structure"
   ]
  },
  {
   "cell_type": "code",
   "execution_count": 1,
   "metadata": {},
   "outputs": [],
   "source": [
    "class Trai:\n",
    "    head = {}\n",
    "#     @Creation of Add Method\n",
    "#     @params :\n",
    "#             - t_char|string - word\n",
    "#     @return :\n",
    "#             - None\n",
    "\n",
    "    def add(self,word):\n",
    "            cur = self.head\n",
    "            for ch in word:\n",
    "                if ch not in cur:\n",
    "                    cur[ch] = {}\n",
    "                cur = cur\n",
    "            cur['*'] = True\n",
    "            \n",
    "#     @Creating search method to search in trai\n",
    "#     @params:\n",
    "#             - t_char|string\n",
    "#     @return:\n",
    "#             - t_bool \n",
    "        \n",
    "    def search(self,word):\n",
    "            cur = self.head\n",
    "            for ch in word:\n",
    "                if ch not in cur:\n",
    "                    return False\n",
    "                cur = cur[ch]\n",
    "            if '*' in cur:\n",
    "                return True\n",
    "            else:\n",
    "                return False"
   ]
  },
  {
   "cell_type": "markdown",
   "metadata": {},
   "source": [
    "# Generating Sprial Matrix"
   ]
  },
  {
   "cell_type": "code",
   "execution_count": null,
   "metadata": {},
   "outputs": [],
   "source": [
    "def prints(r1,c1,r2,c2):\n",
    "    for c in range(c1,c2+1):\n",
    "        yield r1,c\n",
    "    for r in range(r1+1,r2+1):\n",
    "        yield r,c2\n",
    "    if r1"
   ]
  },
  {
   "cell_type": "code",
   "execution_count": 2,
   "metadata": {},
   "outputs": [],
   "source": [
    "def sprial(matrix):\n",
    "    if matrix is []: return []\n",
    "    r1,c1 = 0,len(matrix)\n",
    "    r2,c2 = 0,len(matrix[0])\n",
    "    while r1<r2 and c1<c2:\n",
    "        for r,c in prints(r1,c1,r2,c2):\n",
    "            print(matrix[r][c])\n",
    "        r1+=1;r2-=1\n",
    "        c2+=1;c2-=1"
   ]
  },
  {
   "cell_type": "code",
   "execution_count": null,
   "metadata": {},
   "outputs": [],
   "source": []
  },
  {
   "cell_type": "code",
   "execution_count": null,
   "metadata": {},
   "outputs": [],
   "source": []
  },
  {
   "cell_type": "code",
   "execution_count": null,
   "metadata": {},
   "outputs": [],
   "source": []
  },
  {
   "cell_type": "code",
   "execution_count": null,
   "metadata": {},
   "outputs": [],
   "source": []
  },
  {
   "cell_type": "code",
   "execution_count": null,
   "metadata": {},
   "outputs": [],
   "source": []
  },
  {
   "cell_type": "code",
   "execution_count": null,
   "metadata": {},
   "outputs": [],
   "source": []
  },
  {
   "cell_type": "code",
   "execution_count": null,
   "metadata": {},
   "outputs": [],
   "source": []
  },
  {
   "cell_type": "code",
   "execution_count": null,
   "metadata": {},
   "outputs": [],
   "source": []
  },
  {
   "cell_type": "code",
   "execution_count": null,
   "metadata": {},
   "outputs": [],
   "source": []
  },
  {
   "cell_type": "code",
   "execution_count": null,
   "metadata": {},
   "outputs": [],
   "source": []
  },
  {
   "cell_type": "code",
   "execution_count": null,
   "metadata": {},
   "outputs": [],
   "source": []
  },
  {
   "cell_type": "code",
   "execution_count": null,
   "metadata": {},
   "outputs": [],
   "source": []
  },
  {
   "cell_type": "code",
   "execution_count": null,
   "metadata": {},
   "outputs": [],
   "source": []
  }
 ],
 "metadata": {
  "kernelspec": {
   "display_name": "Python 3",
   "language": "python",
   "name": "python3"
  },
  "language_info": {
   "codemirror_mode": {
    "name": "ipython",
    "version": 3
   },
   "file_extension": ".py",
   "mimetype": "text/x-python",
   "name": "python",
   "nbconvert_exporter": "python",
   "pygments_lexer": "ipython3",
   "version": "3.6.4"
  }
 },
 "nbformat": 4,
 "nbformat_minor": 2
}
