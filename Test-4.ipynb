{
 "cells": [
  {
   "cell_type": "code",
   "execution_count": 170,
   "metadata": {},
   "outputs": [],
   "source": [
    "import pandas as pa\n",
    "import json"
   ]
  },
  {
   "cell_type": "code",
   "execution_count": 171,
   "metadata": {},
   "outputs": [],
   "source": [
    "from alpha_vantage.timeseries import TimeSeries as TS\n",
    "from alpha_vantage.techindicators import TechIndicators as TI"
   ]
  },
  {
   "cell_type": "code",
   "execution_count": 172,
   "metadata": {},
   "outputs": [],
   "source": [
    "class stock :\n",
    "    info = None\n",
    "    data = None\n",
    "    indi = {}"
   ]
  },
  {
   "cell_type": "code",
   "execution_count": 173,
   "metadata": {},
   "outputs": [],
   "source": [
    "key = '4C781NLHZCTNZ2V5'\n",
    "def getdata(sym,size):\n",
    "    av = TS(key,output_format='pandas')\n",
    "    s = stock()\n",
    "    s.data,s.info = av.get_daily(sym,outputsize=size)    \n",
    "#     s.data = pa.read_json(json.dumps(data[0])).transpose().rename(columns={\"1. open\":'Open','2. high':'High',\"3. low\":'Low',\"4. close\":'Close',\"5. volume\":'Volume'})\n",
    "    data = s.info\n",
    "    data['info'] = data['1. Information']\n",
    "    del data['1. Information']\n",
    "    data['sym']  = data['2. Symbol']\n",
    "    del data['2. Symbol']\n",
    "    data['ref']  = data['3. Last Refreshed']\n",
    "    del data['3. Last Refreshed']\n",
    "    data['out_size'] = data['4. Output Size']\n",
    "    del data['4. Output Size']\n",
    "    data['timezone'] = data['5. Time Zone']\n",
    "    del data['5. Time Zone']\n",
    "    s.info = data\n",
    "    return s\n"
   ]
  },
  {
   "cell_type": "code",
   "execution_count": 174,
   "metadata": {},
   "outputs": [],
   "source": [
    "def getindicators(s,sym,size):\n",
    "    av = TI(key)\n",
    "    ti = TI(key,output_format='pandas')\n",
    "    ema12_data, ema12_meta_data = ti.get_ema(symbol='NSE:SBIN',time_period=12)\n",
    "    ema30_data, ema30_meta_data = ti.get_ema(symbol='NSE:SBIN',time_period=30)\n",
    "    s.indi['ema12'] = ema12_data\n",
    "    s.indi['ema12_info'] = ema12_meta_data\n",
    "    s.indi['ema30'] = ema30_data\n",
    "    s.indi['ema30_info'] =ema30_meta_data"
   ]
  },
  {
   "cell_type": "code",
   "execution_count": 175,
   "metadata": {},
   "outputs": [],
   "source": [
    "sbin = getdata('NSE:SBIN','full')"
   ]
  },
  {
   "cell_type": "code",
   "execution_count": 176,
   "metadata": {},
   "outputs": [],
   "source": [
    "getindicators(sbin,'NSE:SBIN','full')"
   ]
  },
  {
   "cell_type": "code",
   "execution_count": 1,
   "metadata": {},
   "outputs": [],
   "source": [
    "import ta"
   ]
  }
 ],
 "metadata": {
  "kernelspec": {
   "display_name": "Python 3",
   "language": "python",
   "name": "python3"
  },
  "language_info": {
   "codemirror_mode": {
    "name": "ipython",
    "version": 3
   },
   "file_extension": ".py",
   "mimetype": "text/x-python",
   "name": "python",
   "nbconvert_exporter": "python",
   "pygments_lexer": "ipython3",
   "version": "3.7.1"
  }
 },
 "nbformat": 4,
 "nbformat_minor": 2
}
